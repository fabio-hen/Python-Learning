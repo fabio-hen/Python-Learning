{
 "cells": [
  {
   "cell_type": "markdown",
   "metadata": {},
   "source": [
    "# Function Python\n",
    "\n",
    "### O que é?\n",
    "\n",
    "As functions são blocos de código que servem 1 único propósito, fazem uma ação específica.\n",
    "\n",
    "### Estrutura Básica"
   ]
  },
  {
   "cell_type": "raw",
   "metadata": {},
   "source": [
    "def nome_funcao():\n",
    "    faça alguma coisa\n",
    "    faça outra coisa\n",
    "    return valor_final"
   ]
  },
  {
   "cell_type": "markdown",
   "metadata": {},
   "source": [
    "- Exemplo: vamos criar uma função de cadastro de um Produto. Essa função deve garantir que o produto cadastrado está em letra minúscula."
   ]
  },
  {
   "cell_type": "code",
   "execution_count": 4,
   "metadata": {},
   "outputs": [],
   "source": [
    "def cadastrar_produto():\n",
    "    produto = input('Digite o nome do produto que deseja cadastrar')\n",
    "    produto = produto.casefold()\n",
    "    print('Produto {} cadastrado com sucesso'.format(produto))\n"
   ]
  },
  {
   "cell_type": "code",
   "execution_count": 7,
   "metadata": {},
   "outputs": [
    {
     "name": "stdout",
     "output_type": "stream",
     "text": [
      "Produto feijao cadastrado com sucesso\n",
      "Produto arroz cadastrado com sucesso\n",
      "Produto milho cadastrado com sucesso\n"
     ]
    }
   ],
   "source": [
    "for i in range(3):\n",
    "    cadastrar_produto()\n"
   ]
  }
 ],
 "metadata": {
  "kernelspec": {
   "display_name": "Python 3",
   "language": "python",
   "name": "python3"
  },
  "language_info": {
   "codemirror_mode": {
    "name": "ipython",
    "version": 3
   },
   "file_extension": ".py",
   "mimetype": "text/x-python",
   "name": "python",
   "nbconvert_exporter": "python",
   "pygments_lexer": "ipython3",
   "version": "3.11.1 (tags/v3.11.1:a7a450f, Dec  6 2022, 19:58:39) [MSC v.1934 64 bit (AMD64)]"
  },
  "vscode": {
   "interpreter": {
    "hash": "a0e55edf4eda1741eaa0068e1738ebc7df38f24ef95de6b3e38689a2a8093137"
   }
  }
 },
 "nbformat": 4,
 "nbformat_minor": 4
}
