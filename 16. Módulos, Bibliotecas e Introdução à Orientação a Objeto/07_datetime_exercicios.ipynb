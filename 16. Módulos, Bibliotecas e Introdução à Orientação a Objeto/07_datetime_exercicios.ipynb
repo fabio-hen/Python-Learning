{
 "cells": [
  {
   "cell_type": "markdown",
   "metadata": {},
   "source": [
    "## Oferecendo desconto para cliente com base na última compra\n",
    "\n",
    "Suponha que você está trabalhando para uma empresa que deseja rastrear a atividade do cliente. Uma métrica que eles estão interessados é o tempo que passou desde a última transação do cliente. Se for muito tempo, eles podem oferecer um desconto para o cliente. Crie um script Python que mostra quanto tempo se passou desde a última compra do cliente. Se faz mais de 30 dias, mostre uma mensagem oferecendo um desconto para o cliente."
   ]
  },
  {
   "cell_type": "code",
   "execution_count": 1,
   "metadata": {},
   "outputs": [
    {
     "name": "stdout",
     "output_type": "stream",
     "text": [
      "Voce ganhou um desconto\n"
     ]
    }
   ],
   "source": [
    "from datetime import datetime\n",
    "ultima_compra = datetime(2023, 5, 10)\n",
    "compra_atual = datetime.now()\n",
    "\n",
    "diferenca = compra_atual - ultima_compra\n",
    "if diferenca.days > 30:\n",
    "    print(\"Voce ganhou um desconto\")\n",
    "else:\n",
    "    print(\"Nenhum desconto\")"
   ]
  },
  {
   "cell_type": "markdown",
   "metadata": {},
   "source": [
    "## Data e hora em diferentes fusos horários\n",
    "\n",
    "Uma empresa tem escritórios em São Paulo, Nova York e Tóquio. Crie um script Python que mostra a data e hora atuais nesses três fusos horários. Exiba, também, se estes escritórios estão abertos ou fechados (9h às 17h).\n"
   ]
  },
  {
   "cell_type": "code",
   "execution_count": 2,
   "metadata": {},
   "outputs": [
    {
     "name": "stdout",
     "output_type": "stream",
     "text": [
      "Horário atual: 2023-08-13 20:04:29.727870\n",
      "Horário atual em São Paulo: 20:04:29, escritório: Fechado\n",
      "Horário atual em Nova York: 19:04:29, escritório: Fechado\n",
      "Horário atual em Tóquio: 08:04:29, escritório: Fechado\n"
     ]
    }
   ],
   "source": [
    "from datetime import datetime\n",
    "from zoneinfo import ZoneInfo\n",
    "\n",
    "data_hora_atual = datetime.now()\n",
    "fuso_horario_sp = ZoneInfo('America/Sao_Paulo')\n",
    "fuso_horario_ny = ZoneInfo('America/New_York')\n",
    "fuso_horario_tk = ZoneInfo('Asia/Tokyo')\n",
    "\n",
    "data_hora_sao_paulo = data_hora_atual.astimezone(fuso_horario_sp)\n",
    "data_hora_ny = data_hora_atual.astimezone(fuso_horario_ny)\n",
    "data_hora_tk = data_hora_atual.astimezone(fuso_horario_tk)\n",
    "\n",
    "def verifica (data_hora):\n",
    "    if 9 <= data_hora.hour < 17:\n",
    "        return \"Aberto\"\n",
    "    else:\n",
    "        return \"Fechado\"\n",
    "    \n",
    "print(f'Horário atual: {data_hora_atual}')\n",
    "print(f'Horário atual em São Paulo: {data_hora_sao_paulo.strftime(\"%H:%M:%S\")}, escritório: {verifica(data_hora_sao_paulo)}')\n",
    "print(f'Horário atual em Nova York: {data_hora_ny.strftime(\"%H:%M:%S\")}, escritório: {verifica(data_hora_ny)}')\n",
    "print(f'Horário atual em Tóquio: {data_hora_tk.strftime(\"%H:%M:%S\")}, escritório: {verifica(data_hora_tk)}')\n",
    "\n"
   ]
  }
 ],
 "metadata": {
  "kernelspec": {
   "display_name": "Python 3 (ipykernel)",
   "language": "python",
   "name": "python3"
  },
  "language_info": {
   "codemirror_mode": {
    "name": "ipython",
    "version": 3
   },
   "file_extension": ".py",
   "mimetype": "text/x-python",
   "name": "python",
   "nbconvert_exporter": "python",
   "pygments_lexer": "ipython3",
   "version": "3.10.9"
  }
 },
 "nbformat": 4,
 "nbformat_minor": 4
}
