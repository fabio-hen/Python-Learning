{
 "cells": [
  {
   "cell_type": "markdown",
   "metadata": {},
   "source": [
    "## Calculando a idade\n",
    "\n",
    "Um usuário fornece sua data de nascimento no formato \"dd/mm/aaaa\". Crie um script Python que calcula a idade do usuário.\n"
   ]
  },
  {
   "cell_type": "code",
   "execution_count": 12,
   "metadata": {},
   "outputs": [
    {
     "name": "stdout",
     "output_type": "stream",
     "text": [
      "23\n"
     ]
    }
   ],
   "source": [
    "from datetime import datetime\n",
    "\n",
    "data_nascimento_usuario = input(\"Digite sua data de nascimento (dd/mm/aaaa): \")\n",
    "data_nascimento_usuario = datetime.strptime(data_nascimento_usuario, \"%d/%m/%Y\")\n",
    "data_atual = datetime.now()\n",
    "\n",
    "idade = data_atual.year - data_nascimento_usuario.year\n",
    "mes_atual = data_atual.month\n",
    "dia_atual = data_atual.day\n",
    "\n",
    "mes_nascimento = data_nascimento_usuario.month\n",
    "dia_nascimento = data_nascimento_usuario.day\n",
    "\n",
    "if mes_nascimento > mes_atual:\n",
    "    idade -= 1\n",
    "elif mes_nascimento == mes_atual and dia_nascimento > dia_atual:\n",
    "    idade -= 1\n",
    "\n",
    "print(idade)\n"
   ]
  },
  {
   "cell_type": "code",
   "execution_count": null,
   "metadata": {},
   "outputs": [],
   "source": []
  }
 ],
 "metadata": {
  "kernelspec": {
   "display_name": "Python 3 (ipykernel)",
   "language": "python",
   "name": "python3"
  },
  "language_info": {
   "codemirror_mode": {
    "name": "ipython",
    "version": 3
   },
   "file_extension": ".py",
   "mimetype": "text/x-python",
   "name": "python",
   "nbconvert_exporter": "python",
   "pygments_lexer": "ipython3",
   "version": "3.10.9"
  }
 },
 "nbformat": 4,
 "nbformat_minor": 4
}
