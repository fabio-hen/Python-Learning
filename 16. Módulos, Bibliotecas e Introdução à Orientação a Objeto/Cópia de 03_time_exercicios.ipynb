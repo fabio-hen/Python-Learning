{
 "cells": [
  {
   "cell_type": "markdown",
   "metadata": {},
   "source": [
    "## Contagem regressiva\n",
    "\n",
    "Um evento especial está programado para começar em 10 segundos. Crie uma contagem regressiva que começa em 10 e vai até 0, com uma pausa de um segundo entre cada número.\n"
   ]
  },
  {
   "cell_type": "markdown",
   "metadata": {},
   "source": [
    " "
   ]
  },
  {
   "cell_type": "code",
   "execution_count": 22,
   "metadata": {},
   "outputs": [
    {
     "name": "stdout",
     "output_type": "stream",
     "text": [
      "O evento Começou\n"
     ]
    }
   ],
   "source": [
    "import time\n",
    "\n",
    "for numero in range(5, -1, -1):\n",
    "    print(numero, end=\" \\r\")\n",
    "    time.sleep(1)\n",
    "print('O evento Começou')\n"
   ]
  },
  {
   "cell_type": "markdown",
   "metadata": {},
   "source": [
    "## Formatação de tempo\n",
    "\n",
    "Uma empresa quer exibir a data e a hora atual em seu site no formato \"Dia da semana, dia do mês de mês de ano, horas:minutos\". Crie um script Python que mostra a data e a hora atuais neste formato.\n",
    "\n"
   ]
  },
  {
   "cell_type": "code",
   "execution_count": 23,
   "metadata": {},
   "outputs": [
    {
     "name": "stdout",
     "output_type": "stream",
     "text": [
      "Tempo em UTC: time.struct_time(tm_year=2009, tm_mon=2, tm_mday=13, tm_hour=23, tm_min=31, tm_sec=30, tm_wday=4, tm_yday=44, tm_isdst=0)\n",
      "Tempo em UTC: sexta-feira, 13 de fevereiro de 2009, 23:31:30\n"
     ]
    }
   ],
   "source": [
    "gmt_struct_exemplo = time.gmtime(1_234_567_890)\n",
    "\n",
    "print(f\"Tempo em UTC: {gmt_struct_exemplo}\")\n",
    "\n",
    "print(f\"Tempo em UTC: {time.strftime('%A, %d de %B de %Y, %H:%M:%S', gmt_struct_exemplo)}\") \n",
    "\n"
   ]
  },
  {
   "cell_type": "code",
   "execution_count": 24,
   "metadata": {},
   "outputs": [
    {
     "name": "stdout",
     "output_type": "stream",
     "text": [
      "Tempo em UTC: sexta-feira, 13 de fevereiro de 2009, 23:31:30\n"
     ]
    }
   ],
   "source": [
    "import locale\n",
    "locale.setlocale(locale.LC_TIME, \"pt_BR.UTF-8\")\n",
    "gmt_struct_exemplo = time.gmtime(1_234_567_890)\n",
    "print(f\"Tempo em UTC: {time.strftime('%A, %d de %B de %Y, %H:%M:%S', gmt_struct_exemplo)}\") "
   ]
  }
 ],
 "metadata": {
  "kernelspec": {
   "display_name": "Python 3 (ipykernel)",
   "language": "python",
   "name": "python3"
  },
  "language_info": {
   "codemirror_mode": {
    "name": "ipython",
    "version": 3
   },
   "file_extension": ".py",
   "mimetype": "text/x-python",
   "name": "python",
   "nbconvert_exporter": "python",
   "pygments_lexer": "ipython3",
   "version": "3.10.9"
  }
 },
 "nbformat": 4,
 "nbformat_minor": 4
}
