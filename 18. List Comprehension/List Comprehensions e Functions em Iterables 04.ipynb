{
 "cells": [
  {
   "cell_type": "markdown",
   "metadata": {},
   "source": [
    "# List Comprehension com if para escolher o resultado final\n",
    "\n",
    "### Estrutura:"
   ]
  },
  {
   "cell_type": "raw",
   "metadata": {},
   "source": [
    "lista = [item if condicao else outro_resultado for item in iterable]"
   ]
  },
  {
   "cell_type": "markdown",
   "metadata": {},
   "source": [
    "- Digamos que eu esteja analisando os vendedores de uma loja e queira criar uma lista para enviar para o RH com o bônus de cada vendedor.\n",
    "- O bônus é dado por 10% do valor de vendas dele, caso ele tenha batido a meta"
   ]
  },
  {
   "cell_type": "code",
   "execution_count": 12,
   "metadata": {},
   "outputs": [],
   "source": [
    "vendedores_dic = {'Maria': 1200, 'José': 300, 'Antônio': 800, 'João': 1500, 'Francisco': 1900, 'Ana': 2750, 'Luiz': 400, 'Paulo': 20, 'Carlos': 23, 'Manoel': 70, 'Pedro': 90, 'Francisca': 80, 'Marcos': 1100, 'Raimundo': 999, 'Sebastião': 900, 'Antônia': 880, 'Marcelo': 870, 'Jorge': 50, 'Márcia': 1111, 'Geraldo': 120, 'Adriana': 300, 'Sandra': 450, 'Luis': 800}\n",
    "meta = 1000"
   ]
  },
  {
   "cell_type": "markdown",
   "metadata": {},
   "source": [
    "- Fazendo por for"
   ]
  },
  {
   "cell_type": "code",
   "execution_count": 13,
   "metadata": {},
   "outputs": [
    {
     "name": "stdout",
     "output_type": "stream",
     "text": [
      "[120.0, 0, 0, 150.0, 190.0, 275.0, 0, 0, 0, 0, 0, 0, 110.0, 0, 0, 0, 0, 0, 111.10000000000001, 0, 0, 0, 0]\n"
     ]
    }
   ],
   "source": [
    "bonus = []\n",
    "for item in vendedores_dic:\n",
    "    if vendedores_dic[item] > meta:\n",
    "        bonus.append(vendedores_dic[item] * 0.1)\n",
    "    else:\n",
    "        bonus.append(0)\n",
    "print(bonus)"
   ]
  },
  {
   "cell_type": "markdown",
   "metadata": {},
   "source": [
    "- Fazendo por List Comprehension"
   ]
  },
  {
   "cell_type": "code",
   "execution_count": 15,
   "metadata": {},
   "outputs": [
    {
     "ename": "TypeError",
     "evalue": "'float' object is not iterable",
     "output_type": "error",
     "traceback": [
      "\u001b[1;31m---------------------------------------------------------------------------\u001b[0m",
      "\u001b[1;31mTypeError\u001b[0m                                 Traceback (most recent call last)",
      "Cell \u001b[1;32mIn[15], line 3\u001b[0m\n\u001b[0;32m      1\u001b[0m \u001b[39mfrom\u001b[39;00m \u001b[39mtabulate\u001b[39;00m \u001b[39mimport\u001b[39;00m tabulate\n\u001b[0;32m      2\u001b[0m bonus \u001b[39m=\u001b[39m [vendedores_dic[item] \u001b[39m*\u001b[39m \u001b[39m0.1\u001b[39m \u001b[39mif\u001b[39;00m vendedores_dic[item] \u001b[39m>\u001b[39m meta \u001b[39melse\u001b[39;00m \u001b[39m0\u001b[39m \u001b[39mfor\u001b[39;00m item \u001b[39min\u001b[39;00m vendedores_dic]\n\u001b[1;32m----> 3\u001b[0m \u001b[39mprint\u001b[39m(tabulate(bonus))\n",
      "File \u001b[1;32mc:\\Users\\Fábio\\AppData\\Local\\Programs\\Python\\Python311\\Lib\\site-packages\\tabulate\\__init__.py:2048\u001b[0m, in \u001b[0;36mtabulate\u001b[1;34m(tabular_data, headers, tablefmt, floatfmt, intfmt, numalign, stralign, missingval, showindex, disable_numparse, colalign, maxcolwidths, rowalign, maxheadercolwidths)\u001b[0m\n\u001b[0;32m   2045\u001b[0m \u001b[39mif\u001b[39;00m tabular_data \u001b[39mis\u001b[39;00m \u001b[39mNone\u001b[39;00m:\n\u001b[0;32m   2046\u001b[0m     tabular_data \u001b[39m=\u001b[39m []\n\u001b[1;32m-> 2048\u001b[0m list_of_lists, headers \u001b[39m=\u001b[39m _normalize_tabular_data(\n\u001b[0;32m   2049\u001b[0m     tabular_data, headers, showindex\u001b[39m=\u001b[39;49mshowindex\n\u001b[0;32m   2050\u001b[0m )\n\u001b[0;32m   2051\u001b[0m list_of_lists, separating_lines \u001b[39m=\u001b[39m _remove_separating_lines(list_of_lists)\n\u001b[0;32m   2053\u001b[0m \u001b[39mif\u001b[39;00m maxcolwidths \u001b[39mis\u001b[39;00m \u001b[39mnot\u001b[39;00m \u001b[39mNone\u001b[39;00m:\n",
      "File \u001b[1;32mc:\\Users\\Fábio\\AppData\\Local\\Programs\\Python\\Python311\\Lib\\site-packages\\tabulate\\__init__.py:1471\u001b[0m, in \u001b[0;36m_normalize_tabular_data\u001b[1;34m(tabular_data, headers, showindex)\u001b[0m\n\u001b[0;32m   1469\u001b[0m headers \u001b[39m=\u001b[39m \u001b[39mlist\u001b[39m(\u001b[39mmap\u001b[39m(\u001b[39mstr\u001b[39m, headers))\n\u001b[0;32m   1470\u001b[0m \u001b[39m#    rows = list(map(list, rows))\u001b[39;00m\n\u001b[1;32m-> 1471\u001b[0m rows \u001b[39m=\u001b[39m \u001b[39mlist\u001b[39m(\u001b[39mmap\u001b[39m(\u001b[39mlambda\u001b[39;00m r: r \u001b[39mif\u001b[39;00m _is_separating_line(r) \u001b[39melse\u001b[39;00m \u001b[39mlist\u001b[39m(r), rows))\n\u001b[0;32m   1473\u001b[0m \u001b[39m# add or remove an index column\u001b[39;00m\n\u001b[0;32m   1474\u001b[0m showindex_is_a_str \u001b[39m=\u001b[39m \u001b[39mtype\u001b[39m(showindex) \u001b[39min\u001b[39;00m [\u001b[39mstr\u001b[39m, \u001b[39mbytes\u001b[39m]\n",
      "File \u001b[1;32mc:\\Users\\Fábio\\AppData\\Local\\Programs\\Python\\Python311\\Lib\\site-packages\\tabulate\\__init__.py:1471\u001b[0m, in \u001b[0;36m_normalize_tabular_data.<locals>.<lambda>\u001b[1;34m(r)\u001b[0m\n\u001b[0;32m   1469\u001b[0m headers \u001b[39m=\u001b[39m \u001b[39mlist\u001b[39m(\u001b[39mmap\u001b[39m(\u001b[39mstr\u001b[39m, headers))\n\u001b[0;32m   1470\u001b[0m \u001b[39m#    rows = list(map(list, rows))\u001b[39;00m\n\u001b[1;32m-> 1471\u001b[0m rows \u001b[39m=\u001b[39m \u001b[39mlist\u001b[39m(\u001b[39mmap\u001b[39m(\u001b[39mlambda\u001b[39;00m r: r \u001b[39mif\u001b[39;00m _is_separating_line(r) \u001b[39melse\u001b[39;00m \u001b[39mlist\u001b[39m(r), rows))\n\u001b[0;32m   1473\u001b[0m \u001b[39m# add or remove an index column\u001b[39;00m\n\u001b[0;32m   1474\u001b[0m showindex_is_a_str \u001b[39m=\u001b[39m \u001b[39mtype\u001b[39m(showindex) \u001b[39min\u001b[39;00m [\u001b[39mstr\u001b[39m, \u001b[39mbytes\u001b[39m]\n",
      "\u001b[1;31mTypeError\u001b[0m: 'float' object is not iterable"
     ]
    }
   ],
   "source": [
    "from tabulate import tabulate\n",
    "bonus = [vendedores_dic[item] * 0.1 if vendedores_dic[item] > meta else 0 for item in vendedores_dic]\n",
    "print(tabulate(bonus))"
   ]
  }
 ],
 "metadata": {
  "kernelspec": {
   "display_name": "Python 3",
   "language": "python",
   "name": "python3"
  },
  "language_info": {
   "codemirror_mode": {
    "name": "ipython",
    "version": 3
   },
   "file_extension": ".py",
   "mimetype": "text/x-python",
   "name": "python",
   "nbconvert_exporter": "python",
   "pygments_lexer": "ipython3",
   "version": "3.11.1"
  },
  "vscode": {
   "interpreter": {
    "hash": "a0e55edf4eda1741eaa0068e1738ebc7df38f24ef95de6b3e38689a2a8093137"
   }
  }
 },
 "nbformat": 4,
 "nbformat_minor": 4
}
