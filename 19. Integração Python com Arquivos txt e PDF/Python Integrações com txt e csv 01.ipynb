{
 "cells": [
  {
   "cell_type": "markdown",
   "metadata": {},
   "source": [
    "# Integração do Python com Arquivos txt\n",
    "\n",
    "Como quase tudo no Python, existem várias formas de ler um arquivo no Python.\n",
    "\n",
    "Aprendemos em módulos passadas a ler arquivos em Excel ou csv com o Pandas, minha recomendação é que, sempre que possível, use o pandas para isso porque ele é um módulo feito para análise de dados e tem muita coisa pronta dentro dele.\n",
    "\n",
    "Caso queira ler um arquivo txt simplesmente ou escrever um, vamos ver agora como fazer.\n",
    "\n",
    "### Estrutura:"
   ]
  },
  {
   "cell_type": "raw",
   "metadata": {},
   "source": [
    "1. Método open: -> Abre um arquivo txt\n",
    "\n",
    "arquivo = open('NomeArquivo.txt', 'r')\n",
    "\n",
    "Usamos 'r' para abrir o arquivo para ler (read) e 'w' quando estamos abrindo o arquivo para escrever (write) ou 'a' se formos adicionar (append) uma informação no arquivo"
   ]
  },
  {
   "cell_type": "markdown",
   "metadata": {},
   "source": [
    "- Com o arquivo aberto, agora podemos efetivamente ler o arquivo com os métodos:"
   ]
  },
  {
   "cell_type": "raw",
   "metadata": {},
   "source": [
    "2. Método read():\n",
    "\n",
    "texto_arquivo = arquivo.read()\n",
    "\n",
    "3. Método readlines():\n",
    "\n",
    "lista_linhas = arquivo.readlines()"
   ]
  },
  {
   "cell_type": "markdown",
   "metadata": {},
   "source": [
    "- Para escrever alguma coisa no arquivo teremos o método write:"
   ]
  },
  {
   "cell_type": "raw",
   "metadata": {},
   "source": [
    "4. Método write():\n",
    "\n",
    "arquivo.write('Texto que quero escrever')"
   ]
  },
  {
   "cell_type": "markdown",
   "metadata": {},
   "source": [
    "- Obs: Quando você abre um arquivo, ele permanece aberto no Python até você fechar. Existem 2 formas de fazer isso:"
   ]
  },
  {
   "cell_type": "raw",
   "metadata": {},
   "source": [
    "5. Método close():\n",
    "\n",
    "arquivo.close()\n",
    "\n",
    "6. Usando a estrutura with: -> ao final do with, a própria estrutura with fecha automaticamente o arquivo\n",
    "\n",
    "with open('NomeArquivo.txt', 'w') as arquivo:\n",
    "    arquivo.write()\n",
    "    ..."
   ]
  },
  {
   "cell_type": "markdown",
   "metadata": {},
   "source": [
    "### Desafio onde vamos aprender:\n",
    "\n",
    "- Na Hashtag, sempre analisamos o nosso \"Funil de Vendas\". Para isso, rastreamos de onde veio os alunos por meio de um código, do tipo:\n",
    "    - hashtag_site_org -> Pessoas que vieram pelo site da Hashtag\n",
    "    - hashtag_yt_org -> Pessoas que vieram pelo Youtube da Hashtag\n",
    "    - hashtag_ig_org -> Pessoas que vieram pelo Instagram da Hashtag\n",
    "    - hashtag_igfb_org -> Pessoas que vieram pelo Instagram ou Facebook da Hashtag\n",
    "\n",
    "Os códigos diferentes disso, são códigos de anúncio da Hashtag.\n",
    "\n",
    "- Queremos analisar quantos alunos vieram de anúncio e quantos vieram \"orgânico\".\n",
    "- Qual a melhor fonte \"orgânica\" de alunos\n",
    "\n",
    "Obs: orgânico é tudo aquilo que não veio de anúncios.\n",
    "\n",
    "No nosso sistema, conseguimos exportar um txt com as informações dos alunos, conforme o arquivo Alunos.txt<br>\n",
    "(Os dados foram gerados aleatoriamente para simular uma situação real, já que não podemos fornecer os dados reais dos alunos por questões de segurança)\n",
    "\n",
    "- No final, para treinar, vamos escrever todas essas respostas em um novo arquivo txt"
   ]
  },
  {
   "cell_type": "code",
   "execution_count": 29,
   "metadata": {},
   "outputs": [
    {
     "data": {
      "text/plain": [
       "\"arquivo = open('Alunos.txt', 'r')\\n\\n#print(arquivo.read())\\nprint(arquivo.readlines())\""
      ]
     },
     "execution_count": 29,
     "metadata": {},
     "output_type": "execute_result"
    }
   ],
   "source": [
    "'''arquivo = open('Alunos.txt', 'r')\n",
    "\n",
    "#print(arquivo.read())\n",
    "print(arquivo.readlines())'''"
   ]
  },
  {
   "cell_type": "code",
   "execution_count": 30,
   "metadata": {},
   "outputs": [
    {
     "data": {
      "text/plain": [
       "'novo_arquivo = open(\\'Resumo.txt\\', \\'w\\')\\nnovo_arquivo.write(\"Olá\\noutra linha\\n\")\\nnovo_arquivo.write(\"3 linha\\n\")\\nnovo_arquivo.close() #sempre fechar o arquivo para salvar o arquivo\\n\\nwith open(\\'Resumo2.txt\\', \\'w\\') as arquivo_2:\\n    arquivo_2.write(\"testando\")'"
      ]
     },
     "execution_count": 30,
     "metadata": {},
     "output_type": "execute_result"
    }
   ],
   "source": [
    "'''novo_arquivo = open('Resumo.txt', 'w')\n",
    "novo_arquivo.write(\"Olá\\noutra linha\\n\")\n",
    "novo_arquivo.write(\"3 linha\\n\")\n",
    "novo_arquivo.close() #sempre fechar o arquivo para salvar o arquivo\n",
    "\n",
    "with open('Resumo2.txt', 'w') as arquivo_2:\n",
    "    arquivo_2.write(\"testando\")'''\n"
   ]
  },
  {
   "cell_type": "code",
   "execution_count": 43,
   "metadata": {},
   "outputs": [
    {
     "name": "stdout",
     "output_type": "stream",
     "text": [
      "Quantidade de anúncio: 274\n",
      "Quantidade de organico total: 226\n",
      "      Quantidade do Youtube: 155\n",
      "      Quantidade do Site: 73\n",
      "      Quantidade do Instagram: 22\n",
      "      Quantidade do Intagram-Facebook: 2\n"
     ]
    }
   ],
   "source": [
    "#1 forma\n",
    "arquivo = open(\"Alunos.txt\", 'r')\n",
    "linhas = arquivo.readlines()\n",
    "del linhas[:4] \n",
    "qtd_anu = 0\n",
    "qtd_org = 0\n",
    "qtd_yt_org = 0\n",
    "qtd_site_org = 0\n",
    "qtd_ig_org = 0\n",
    "qtd_igfb_org = 0\n",
    "\n",
    "\n",
    "for linha in linhas:\n",
    "    email, origem = linha.split(',')\n",
    "    if 'org' in origem:\n",
    "        qtd_org += 1\n",
    "        if 'hashtag_yt_org' in origem:\n",
    "            qtd_yt_org += 1\n",
    "        if 'hashtag_site_org' in origem:\n",
    "            qtd_site_org += 1\n",
    "        if 'hashtag_ig_org' in origem:\n",
    "            qtd_ig_org += 1\n",
    "        if 'hashtag_igfb_org' in origem:\n",
    "            qtd_igfb_org += 1\n",
    "    else: \n",
    "        qtd_anu += 1\n",
    "\n",
    "\n",
    "arquivo.close()\n",
    "print(f\"Quantidade de anúncio: {qtd_anu}\")\n",
    "print(f'''Quantidade de organico total: {qtd_org}\n",
    "      Quantidade do Youtube: {qtd_yt_org}\n",
    "      Quantidade do Site: {qtd_site_org}\n",
    "      Quantidade do Instagram: {qtd_ig_org}\n",
    "      Quantidade do Intagram-Facebook: {qtd_igfb_org}''')\n",
    "\n",
    "with open(\"Indicadores.txt\", 'w') as arquivos_indicadores:\n",
    "    arquivos_indicadores.write(f'Quantidade de anúncio: {qtd_anu}\\n')\n",
    "    arquivos_indicadores.write(f'Quantidade de organico total: {qtd_org}\\n')\n",
    "    arquivos_indicadores.write(f'   Quantidade do Youtube: {qtd_yt_org}\\n')\n",
    "    arquivos_indicadores.write(f'   Quantidade do Site: {qtd_site_org}\\n')\n",
    "    arquivos_indicadores.write(f'   Quantidade do Instagram: {qtd_ig_org}\\n')\n",
    "    arquivos_indicadores.write(f'   Quantidade do Intagram-Facebook: {qtd_igfb_org}\\n')"
   ]
  },
  {
   "cell_type": "code",
   "execution_count": 44,
   "metadata": {},
   "outputs": [
    {
     "name": "stdout",
     "output_type": "stream",
     "text": [
      "Quantidade de anúncio: 274\n",
      "Quantidade de orgânico total: 226\n",
      "      Quantidade do Youtube: 155\n",
      "      Quantidade do Site: 73\n",
      "      Quantidade do Instagram: 22: \n",
      "      Quantidade do Intagram-Facebook: 2\n"
     ]
    }
   ],
   "source": [
    "#2 forma\n",
    "qtd_anu = 0\n",
    "qtd_org = 0\n",
    "qtd_yt_org = 0\n",
    "qtd_site_org = 0\n",
    "qtd_ig_org = 0\n",
    "qtd_igfb_org = 0\n",
    "\n",
    "with open(\"Alunos.txt\", 'r') as arquivo:\n",
    "    linhas = arquivo.readlines()[4:] # ignore the first 4 lines\n",
    "\n",
    "for linha in linhas:\n",
    "    email, origem = linha.strip().split(',')\n",
    "    if 'org' in origem:\n",
    "        qtd_org += 1\n",
    "        if 'hashtag_yt_org' in origem:\n",
    "            qtd_yt_org += 1\n",
    "        if 'hashtag_site_org' in origem:\n",
    "            qtd_site_org += 1\n",
    "        if 'hashtag_ig_org' in origem:\n",
    "            qtd_ig_org += 1\n",
    "        if 'hashtag_igfb_org' in origem:\n",
    "            qtd_igfb_org += 1\n",
    "    else: \n",
    "        qtd_anu += 1\n",
    "\n",
    "print(f\"Quantidade de anúncio: {qtd_anu}\")\n",
    "print(f'''Quantidade de orgânico total: {qtd_org}\n",
    "      Quantidade do Youtube: {qtd_yt_org}\n",
    "      Quantidade do Site: {qtd_site_org}\n",
    "      Quantidade do Instagram: {qtd_ig_org}: \n",
    "      Quantidade do Intagram-Facebook: {qtd_igfb_org}''')\n",
    "with open(\"Indicadores.txt\", 'w') as arquivos_indicadores:\n",
    "    arquivos_indicadores.write(f'Quantidade de anúncio: {qtd_anu}\\n')\n",
    "    arquivos_indicadores.write(f'Quantidade de organico total: {qtd_org}\\n')\n",
    "    arquivos_indicadores.write(f'   Quantidade do Youtube: {qtd_yt_org}\\n')\n",
    "    arquivos_indicadores.write(f'   Quantidade do Site: {qtd_site_org}\\n')\n",
    "    arquivos_indicadores.write(f'   Quantidade do Instagram: {qtd_ig_org}\\n')\n",
    "    arquivos_indicadores.write(f'   Quantidade do Intagram-Facebook: {qtd_igfb_org}\\n')"
   ]
  }
 ],
 "metadata": {
  "kernelspec": {
   "display_name": "Python 3",
   "language": "python",
   "name": "python3"
  },
  "language_info": {
   "codemirror_mode": {
    "name": "ipython",
    "version": 3
   },
   "file_extension": ".py",
   "mimetype": "text/x-python",
   "name": "python",
   "nbconvert_exporter": "python",
   "pygments_lexer": "ipython3",
   "version": "3.11.1"
  }
 },
 "nbformat": 4,
 "nbformat_minor": 4
}
