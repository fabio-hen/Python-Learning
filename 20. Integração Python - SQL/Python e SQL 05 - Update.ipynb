{
 "cells": [
  {
   "cell_type": "markdown",
   "metadata": {},
   "source": [
    "# Desafio Python e SQL\n",
    "\n",
    "### Update"
   ]
  },
  {
   "cell_type": "code",
   "execution_count": 6,
   "metadata": {},
   "outputs": [],
   "source": [
    "import pyodbc\n",
    "\n",
    "dados_conexao = (\"Driver={SQLite3 ODBC Driver};\"\n",
    "           \"Server=localhost;\"\n",
    "           \"Database=chinook.db\")\n",
    "\n",
    "conexao = pyodbc.connect(dados_conexao)\n",
    "\n",
    "cursor = conexao.cursor()\n"
   ]
  },
  {
   "cell_type": "code",
   "execution_count": 7,
   "metadata": {},
   "outputs": [],
   "source": [
    "cursor.execute('''\n",
    "UPDATE customers SET Email=\"lira@embraer.com.br\" WHERE Email='luisg@embraer.com.br'\n",
    "''') #executar comando SQL\n",
    "\n",
    "\n",
    "cursor.commit() # perpetuar no banco as alteraçoes\n",
    "\n",
    "cursor.close()\n",
    "conexao.close() # finalizar a conexao"
   ]
  }
 ],
 "metadata": {
  "kernelspec": {
   "display_name": "Python 3",
   "language": "python",
   "name": "python3"
  },
  "language_info": {
   "codemirror_mode": {
    "name": "ipython",
    "version": 3
   },
   "file_extension": ".py",
   "mimetype": "text/x-python",
   "name": "python",
   "nbconvert_exporter": "python",
   "pygments_lexer": "ipython3",
   "version": "3.11.1"
  },
  "vscode": {
   "interpreter": {
    "hash": "a0e55edf4eda1741eaa0068e1738ebc7df38f24ef95de6b3e38689a2a8093137"
   }
  }
 },
 "nbformat": 4,
 "nbformat_minor": 4
}
