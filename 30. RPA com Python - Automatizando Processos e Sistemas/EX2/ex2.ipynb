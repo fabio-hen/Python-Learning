{
 "cells": [
  {
   "cell_type": "code",
   "execution_count": 2,
   "metadata": {},
   "outputs": [],
   "source": [
    "import pyautogui\n",
    "import subprocess\n",
    "import time\n",
    "\n",
    "\n",
    "pyautogui.FAILSAFE = True\n",
    "\n",
    "def encontrar_imagem(imagem):\n",
    "    while not pyautogui.locateOnScreen(imagem, grayscale=True, confidence=0.9):\n",
    "        time.sleep(0.2)\n",
    "    encontrou = pyautogui.locateOnScreen(imagem, grayscale=True, confidence=0.9)\n",
    "    return encontrou\n",
    "\n",
    "subprocess.Popen([r'C:\\Program Files\\Fakturama2\\Fakturama.exe'])\n",
    "\n",
    "encontrou = pyautogui.center(encontrar_imagem('logo.png'))\n",
    "pyautogui.click(pyautogui.center(encontrar_imagem('new.png')))\n",
    "pyautogui.click(pyautogui.center(encontrar_imagem('newproduct.png')))\n",
    "\n",
    "\n",
    "\n"
   ]
  }
 ],
 "metadata": {
  "kernelspec": {
   "display_name": "Python 3",
   "language": "python",
   "name": "python3"
  },
  "language_info": {
   "codemirror_mode": {
    "name": "ipython",
    "version": 3
   },
   "file_extension": ".py",
   "mimetype": "text/x-python",
   "name": "python",
   "nbconvert_exporter": "python",
   "pygments_lexer": "ipython3",
   "version": "3.11.1"
  },
  "orig_nbformat": 4
 },
 "nbformat": 4,
 "nbformat_minor": 2
}
