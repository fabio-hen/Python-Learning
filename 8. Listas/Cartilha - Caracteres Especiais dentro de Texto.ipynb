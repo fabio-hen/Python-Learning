{
 "cells": [
  {
   "cell_type": "markdown",
   "metadata": {},
   "source": [
    "# Caracteres Especiais dentro de Texto\n",
    "\n",
    "Alguns caracteres como o 'enter' tem um código específico no Python para serem usados. Os principais são:"
   ]
  },
  {
   "cell_type": "raw",
   "metadata": {},
   "source": [
    "\\\"  Aspas Duplas\n",
    "\\'\tAspas Simples\t\n",
    "\\\\\tContra Barra\n",
    "\\n\tNova Linha\t\t\n",
    "\\t\tTab\t"
   ]
  }
 ],
 "metadata": {
  "kernelspec": {
   "display_name": "Python 3.10.5 64-bit",
   "language": "python",
   "name": "python3"
  },
  "language_info": {
   "codemirror_mode": {
    "name": "ipython",
    "version": 3
   },
   "file_extension": ".py",
   "mimetype": "text/x-python",
   "name": "python",
   "nbconvert_exporter": "python",
   "pygments_lexer": "ipython3",
   "version": "3.10.5"
  },
  "vscode": {
   "interpreter": {
    "hash": "6f59339097bb9ac4cf41ab9fa2e7f783ea6bb84442f6ce2c2671fa41ded377c2"
   }
  }
 },
 "nbformat": 4,
 "nbformat_minor": 4
}
